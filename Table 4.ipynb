{
 "cells": [
  {
   "cell_type": "code",
   "execution_count": 1,
   "id": "f33b6862",
   "metadata": {
    "scrolled": false
   },
   "outputs": [],
   "source": [
    "%load_ext autoreload\n",
    "\n",
    "%autoreload 2"
   ]
  },
  {
   "cell_type": "code",
   "execution_count": 2,
   "id": "9fea408d",
   "metadata": {},
   "outputs": [],
   "source": [
    "from experiment import experiment"
   ]
  },
  {
   "cell_type": "code",
   "execution_count": 3,
   "id": "8119c3a6",
   "metadata": {},
   "outputs": [],
   "source": [
    "import os"
   ]
  },
  {
   "cell_type": "code",
   "execution_count": 4,
   "id": "017a204e",
   "metadata": {},
   "outputs": [],
   "source": [
    "import pandas as pd"
   ]
  },
  {
   "cell_type": "code",
   "execution_count": 5,
   "id": "d57a8f23",
   "metadata": {},
   "outputs": [],
   "source": [
    "results = os.listdir('results')"
   ]
  },
  {
   "cell_type": "code",
   "execution_count": 6,
   "id": "4d198d3e",
   "metadata": {},
   "outputs": [],
   "source": [
    "results = [result for result in results if result.endswith('.pkl') and \"5.31.2023\" in result and \"nn\" in result and \"std\" in result]"
   ]
  },
  {
   "cell_type": "code",
   "execution_count": 7,
   "id": "e023877d",
   "metadata": {},
   "outputs": [
    {
     "data": {
      "text/plain": [
       "['star_nn_experiment_std_05.31.2023.pkl',\n",
       " 'concrete_nn_experiment_std_05.31.2023.pkl',\n",
       " 'meps_21_nn_experiment_std_05.31.2023.pkl',\n",
       " 'facebook_2_nn_experiment_std_05.31.2023.pkl',\n",
       " 'bio_nn_experiment_std_05.31.2023.pkl',\n",
       " 'blog_data_nn_experiment_std_05.31.2023.pkl',\n",
       " 'meps_19_nn_experiment_std_05.31.2023.pkl',\n",
       " 'meps_20_nn_experiment_std_05.31.2023.pkl',\n",
       " 'community_nn_experiment_std_05.31.2023.pkl',\n",
       " 'homes_nn_experiment_std_05.31.2023.pkl',\n",
       " 'facebook_1_nn_experiment_std_05.31.2023.pkl',\n",
       " 'bike_nn_experiment_std_05.31.2023.pkl']"
      ]
     },
     "execution_count": 7,
     "metadata": {},
     "output_type": "execute_result"
    }
   ],
   "source": [
    "results"
   ]
  },
  {
   "cell_type": "code",
   "execution_count": 8,
   "id": "b69480f9",
   "metadata": {},
   "outputs": [],
   "source": [
    "output = pd.DataFrame(columns=['UACQR-P','UACQR-S', 'CQR','CQR-r', 'UACQR-P SE', 'UACQR-S SE', 'CQR SE','CQR-r SE'])\n",
    "for i,result in enumerate(results):\n",
    "    title = results[i].split('_')[0] if results[i].split('_')[0] not in [\"facebook\",\"meps\"] else '_'.join(results[i].split('_')[0:2])\n",
    "    result = pd.read_pickle('results/'+results[i])\n",
    "    avg_result = result.loc[result.params.str.contains(\"'epoch_model_tracking': True\")].groupby('params', sort=False).mean().iloc[:25]\n",
    "    output.loc[title,['UACQR-P','UACQR-S', 'CQR','CQR-r']] = avg_result.min().to_numpy()\n",
    "    output.loc[title,['UACQR-P SE','UACQR-S SE', 'CQR SE','CQR-r SE']] = result.groupby('params').sem().stack().loc[pd.MultiIndex.from_frame(avg_result.idxmin().rename('min_samples_leaf').reset_index().iloc[:,::-1])].to_numpy()\n",
    "    \n",
    "    "
   ]
  },
  {
   "cell_type": "code",
   "execution_count": 9,
   "id": "c5d4b804",
   "metadata": {},
   "outputs": [
    {
     "data": {
      "text/html": [
       "<div>\n",
       "<style scoped>\n",
       "    .dataframe tbody tr th:only-of-type {\n",
       "        vertical-align: middle;\n",
       "    }\n",
       "\n",
       "    .dataframe tbody tr th {\n",
       "        vertical-align: top;\n",
       "    }\n",
       "\n",
       "    .dataframe thead th {\n",
       "        text-align: right;\n",
       "    }\n",
       "</style>\n",
       "<table border=\"1\" class=\"dataframe\">\n",
       "  <thead>\n",
       "    <tr style=\"text-align: right;\">\n",
       "      <th></th>\n",
       "      <th>UACQR-P</th>\n",
       "      <th>UACQR-S</th>\n",
       "      <th>CQR</th>\n",
       "      <th>CQR-r</th>\n",
       "      <th>UACQR-P SE</th>\n",
       "      <th>UACQR-S SE</th>\n",
       "      <th>CQR SE</th>\n",
       "      <th>CQR-r SE</th>\n",
       "    </tr>\n",
       "  </thead>\n",
       "  <tbody>\n",
       "    <tr>\n",
       "      <th>bike</th>\n",
       "      <td>0.85401</td>\n",
       "      <td>1.01144</td>\n",
       "      <td>1.036681</td>\n",
       "      <td>0.99737</td>\n",
       "      <td>0.004511</td>\n",
       "      <td>0.018289</td>\n",
       "      <td>0.017872</td>\n",
       "      <td>0.018895</td>\n",
       "    </tr>\n",
       "    <tr>\n",
       "      <th>bio</th>\n",
       "      <td>1.566304</td>\n",
       "      <td>1.600183</td>\n",
       "      <td>1.588049</td>\n",
       "      <td>1.590436</td>\n",
       "      <td>0.004781</td>\n",
       "      <td>0.007891</td>\n",
       "      <td>0.005617</td>\n",
       "      <td>0.006593</td>\n",
       "    </tr>\n",
       "    <tr>\n",
       "      <th>blog</th>\n",
       "      <td>1.602354</td>\n",
       "      <td>1.920735</td>\n",
       "      <td>1.914235</td>\n",
       "      <td>2.146209</td>\n",
       "      <td>0.037509</td>\n",
       "      <td>0.049816</td>\n",
       "      <td>0.050879</td>\n",
       "      <td>0.107847</td>\n",
       "    </tr>\n",
       "    <tr>\n",
       "      <th>community</th>\n",
       "      <td>1.49244</td>\n",
       "      <td>1.603385</td>\n",
       "      <td>1.625074</td>\n",
       "      <td>1.626155</td>\n",
       "      <td>0.023068</td>\n",
       "      <td>0.024537</td>\n",
       "      <td>0.030009</td>\n",
       "      <td>0.027034</td>\n",
       "    </tr>\n",
       "    <tr>\n",
       "      <th>concrete</th>\n",
       "      <td>1.46543</td>\n",
       "      <td>1.496595</td>\n",
       "      <td>1.496024</td>\n",
       "      <td>1.496452</td>\n",
       "      <td>0.009443</td>\n",
       "      <td>0.011182</td>\n",
       "      <td>0.009727</td>\n",
       "      <td>0.009753</td>\n",
       "    </tr>\n",
       "    <tr>\n",
       "      <th>facebook_1</th>\n",
       "      <td>1.463887</td>\n",
       "      <td>1.951647</td>\n",
       "      <td>1.958679</td>\n",
       "      <td>2.061826</td>\n",
       "      <td>0.035439</td>\n",
       "      <td>0.099607</td>\n",
       "      <td>0.096426</td>\n",
       "      <td>0.145179</td>\n",
       "    </tr>\n",
       "    <tr>\n",
       "      <th>facebook_2</th>\n",
       "      <td>1.515316</td>\n",
       "      <td>2.00825</td>\n",
       "      <td>2.004542</td>\n",
       "      <td>2.044225</td>\n",
       "      <td>0.040791</td>\n",
       "      <td>0.050788</td>\n",
       "      <td>0.050715</td>\n",
       "      <td>0.070392</td>\n",
       "    </tr>\n",
       "    <tr>\n",
       "      <th>homes</th>\n",
       "      <td>0.551692</td>\n",
       "      <td>0.601959</td>\n",
       "      <td>0.601937</td>\n",
       "      <td>0.603195</td>\n",
       "      <td>0.003429</td>\n",
       "      <td>0.005988</td>\n",
       "      <td>0.00323</td>\n",
       "      <td>0.006536</td>\n",
       "    </tr>\n",
       "    <tr>\n",
       "      <th>meps_19</th>\n",
       "      <td>2.225645</td>\n",
       "      <td>2.512314</td>\n",
       "      <td>2.479244</td>\n",
       "      <td>2.483874</td>\n",
       "      <td>0.020481</td>\n",
       "      <td>0.034898</td>\n",
       "      <td>0.029183</td>\n",
       "      <td>0.036165</td>\n",
       "    </tr>\n",
       "    <tr>\n",
       "      <th>meps_20</th>\n",
       "      <td>2.189202</td>\n",
       "      <td>2.423887</td>\n",
       "      <td>2.407364</td>\n",
       "      <td>2.395958</td>\n",
       "      <td>0.019427</td>\n",
       "      <td>0.023738</td>\n",
       "      <td>0.025373</td>\n",
       "      <td>0.031972</td>\n",
       "    </tr>\n",
       "    <tr>\n",
       "      <th>meps_21</th>\n",
       "      <td>2.194217</td>\n",
       "      <td>2.510937</td>\n",
       "      <td>2.47747</td>\n",
       "      <td>2.48612</td>\n",
       "      <td>0.025268</td>\n",
       "      <td>0.038668</td>\n",
       "      <td>0.035019</td>\n",
       "      <td>0.03759</td>\n",
       "    </tr>\n",
       "    <tr>\n",
       "      <th>star</th>\n",
       "      <td>0.178662</td>\n",
       "      <td>0.186614</td>\n",
       "      <td>0.186988</td>\n",
       "      <td>0.1892</td>\n",
       "      <td>0.000901</td>\n",
       "      <td>0.001292</td>\n",
       "      <td>0.001312</td>\n",
       "      <td>0.001488</td>\n",
       "    </tr>\n",
       "  </tbody>\n",
       "</table>\n",
       "</div>"
      ],
      "text/plain": [
       "             UACQR-P   UACQR-S       CQR     CQR-r UACQR-P SE UACQR-S SE  \\\n",
       "bike         0.85401   1.01144  1.036681   0.99737   0.004511   0.018289   \n",
       "bio         1.566304  1.600183  1.588049  1.590436   0.004781   0.007891   \n",
       "blog        1.602354  1.920735  1.914235  2.146209   0.037509   0.049816   \n",
       "community    1.49244  1.603385  1.625074  1.626155   0.023068   0.024537   \n",
       "concrete     1.46543  1.496595  1.496024  1.496452   0.009443   0.011182   \n",
       "facebook_1  1.463887  1.951647  1.958679  2.061826   0.035439   0.099607   \n",
       "facebook_2  1.515316   2.00825  2.004542  2.044225   0.040791   0.050788   \n",
       "homes       0.551692  0.601959  0.601937  0.603195   0.003429   0.005988   \n",
       "meps_19     2.225645  2.512314  2.479244  2.483874   0.020481   0.034898   \n",
       "meps_20     2.189202  2.423887  2.407364  2.395958   0.019427   0.023738   \n",
       "meps_21     2.194217  2.510937   2.47747   2.48612   0.025268   0.038668   \n",
       "star        0.178662  0.186614  0.186988    0.1892   0.000901   0.001292   \n",
       "\n",
       "              CQR SE  CQR-r SE  \n",
       "bike        0.017872  0.018895  \n",
       "bio         0.005617  0.006593  \n",
       "blog        0.050879  0.107847  \n",
       "community   0.030009  0.027034  \n",
       "concrete    0.009727  0.009753  \n",
       "facebook_1  0.096426  0.145179  \n",
       "facebook_2  0.050715  0.070392  \n",
       "homes        0.00323  0.006536  \n",
       "meps_19     0.029183  0.036165  \n",
       "meps_20     0.025373  0.031972  \n",
       "meps_21     0.035019   0.03759  \n",
       "star        0.001312  0.001488  "
      ]
     },
     "execution_count": 9,
     "metadata": {},
     "output_type": "execute_result"
    }
   ],
   "source": [
    "output.sort_index()"
   ]
  },
  {
   "cell_type": "code",
   "execution_count": 10,
   "id": "5bd11e68",
   "metadata": {},
   "outputs": [],
   "source": [
    "output.drop(['blog','facebook_1','facebook_2','meps_19','meps_20','meps_21'],inplace=True)"
   ]
  },
  {
   "cell_type": "code",
   "execution_count": 11,
   "id": "58409722",
   "metadata": {},
   "outputs": [
    {
     "data": {
      "text/html": [
       "<div>\n",
       "<style scoped>\n",
       "    .dataframe tbody tr th:only-of-type {\n",
       "        vertical-align: middle;\n",
       "    }\n",
       "\n",
       "    .dataframe tbody tr th {\n",
       "        vertical-align: top;\n",
       "    }\n",
       "\n",
       "    .dataframe thead th {\n",
       "        text-align: right;\n",
       "    }\n",
       "</style>\n",
       "<table border=\"1\" class=\"dataframe\">\n",
       "  <thead>\n",
       "    <tr style=\"text-align: right;\">\n",
       "      <th></th>\n",
       "      <th>UACQR-P</th>\n",
       "      <th>UACQR-S</th>\n",
       "      <th>CQR</th>\n",
       "      <th>CQR-r</th>\n",
       "      <th>UACQR-P SE</th>\n",
       "      <th>UACQR-S SE</th>\n",
       "      <th>CQR SE</th>\n",
       "      <th>CQR-r SE</th>\n",
       "    </tr>\n",
       "  </thead>\n",
       "  <tbody>\n",
       "    <tr>\n",
       "      <th>bike</th>\n",
       "      <td>0.85401</td>\n",
       "      <td>1.01144</td>\n",
       "      <td>1.036681</td>\n",
       "      <td>0.99737</td>\n",
       "      <td>0.004511</td>\n",
       "      <td>0.018289</td>\n",
       "      <td>0.017872</td>\n",
       "      <td>0.018895</td>\n",
       "    </tr>\n",
       "    <tr>\n",
       "      <th>bio</th>\n",
       "      <td>1.566304</td>\n",
       "      <td>1.600183</td>\n",
       "      <td>1.588049</td>\n",
       "      <td>1.590436</td>\n",
       "      <td>0.004781</td>\n",
       "      <td>0.007891</td>\n",
       "      <td>0.005617</td>\n",
       "      <td>0.006593</td>\n",
       "    </tr>\n",
       "    <tr>\n",
       "      <th>community</th>\n",
       "      <td>1.49244</td>\n",
       "      <td>1.603385</td>\n",
       "      <td>1.625074</td>\n",
       "      <td>1.626155</td>\n",
       "      <td>0.023068</td>\n",
       "      <td>0.024537</td>\n",
       "      <td>0.030009</td>\n",
       "      <td>0.027034</td>\n",
       "    </tr>\n",
       "    <tr>\n",
       "      <th>concrete</th>\n",
       "      <td>1.46543</td>\n",
       "      <td>1.496595</td>\n",
       "      <td>1.496024</td>\n",
       "      <td>1.496452</td>\n",
       "      <td>0.009443</td>\n",
       "      <td>0.011182</td>\n",
       "      <td>0.009727</td>\n",
       "      <td>0.009753</td>\n",
       "    </tr>\n",
       "    <tr>\n",
       "      <th>homes</th>\n",
       "      <td>0.551692</td>\n",
       "      <td>0.601959</td>\n",
       "      <td>0.601937</td>\n",
       "      <td>0.603195</td>\n",
       "      <td>0.003429</td>\n",
       "      <td>0.005988</td>\n",
       "      <td>0.00323</td>\n",
       "      <td>0.006536</td>\n",
       "    </tr>\n",
       "    <tr>\n",
       "      <th>star</th>\n",
       "      <td>0.178662</td>\n",
       "      <td>0.186614</td>\n",
       "      <td>0.186988</td>\n",
       "      <td>0.1892</td>\n",
       "      <td>0.000901</td>\n",
       "      <td>0.001292</td>\n",
       "      <td>0.001312</td>\n",
       "      <td>0.001488</td>\n",
       "    </tr>\n",
       "  </tbody>\n",
       "</table>\n",
       "</div>"
      ],
      "text/plain": [
       "            UACQR-P   UACQR-S       CQR     CQR-r UACQR-P SE UACQR-S SE  \\\n",
       "bike        0.85401   1.01144  1.036681   0.99737   0.004511   0.018289   \n",
       "bio        1.566304  1.600183  1.588049  1.590436   0.004781   0.007891   \n",
       "community   1.49244  1.603385  1.625074  1.626155   0.023068   0.024537   \n",
       "concrete    1.46543  1.496595  1.496024  1.496452   0.009443   0.011182   \n",
       "homes      0.551692  0.601959  0.601937  0.603195   0.003429   0.005988   \n",
       "star       0.178662  0.186614  0.186988    0.1892   0.000901   0.001292   \n",
       "\n",
       "             CQR SE  CQR-r SE  \n",
       "bike       0.017872  0.018895  \n",
       "bio        0.005617  0.006593  \n",
       "community  0.030009  0.027034  \n",
       "concrete   0.009727  0.009753  \n",
       "homes       0.00323  0.006536  \n",
       "star       0.001312  0.001488  "
      ]
     },
     "execution_count": 11,
     "metadata": {},
     "output_type": "execute_result"
    }
   ],
   "source": [
    "output.sort_index()"
   ]
  },
  {
   "cell_type": "code",
   "execution_count": 12,
   "id": "7d78b4de",
   "metadata": {},
   "outputs": [],
   "source": [
    "def format_fig_and_se(row, method='CQR'):\n",
    "    fig = row[method]\n",
    "    se = row[method+' SE']\n",
    "    if fig >1000:\n",
    "        return f\"{fig:.0f} ({se:.0f})\"\n",
    "    elif fig >1:\n",
    "        return f\"{fig:.3f} ({se:.3f})\"\n",
    "    else:\n",
    "        return f\"{fig:.3f} ({se:.3f})\""
   ]
  },
  {
   "cell_type": "code",
   "execution_count": 13,
   "id": "8eb61bce",
   "metadata": {},
   "outputs": [],
   "source": [
    "drop_columns = [c for c in output.columns if 'SE' in c]"
   ]
  },
  {
   "cell_type": "code",
   "execution_count": 14,
   "id": "e30b2594",
   "metadata": {},
   "outputs": [],
   "source": [
    "from functools import partial"
   ]
  },
  {
   "cell_type": "code",
   "execution_count": 15,
   "id": "5bdfb808",
   "metadata": {},
   "outputs": [],
   "source": [
    "output['CQR'] = output.apply(partial(format_fig_and_se, method='CQR'), axis=1)\n",
    "output['UACQR-S'] = output.apply(partial(format_fig_and_se, method='UACQR-S'), axis=1)\n",
    "output['UACQR-P'] = output.apply(partial(format_fig_and_se, method='UACQR-P'), axis=1)\n",
    "output['CQR-r'] = output.apply(partial(format_fig_and_se, method='CQR-r'), axis=1)"
   ]
  },
  {
   "cell_type": "code",
   "execution_count": 16,
   "id": "de2f02ca",
   "metadata": {},
   "outputs": [],
   "source": [
    "output.drop(columns=drop_columns, inplace=True)"
   ]
  },
  {
   "cell_type": "code",
   "execution_count": 17,
   "id": "0dbb1469",
   "metadata": {
    "scrolled": true
   },
   "outputs": [
    {
     "name": "stdout",
     "output_type": "stream",
     "text": [
      "\\begin{tabular}{lllll}\n",
      " & UACQR-P & UACQR-S & CQR & CQR-r \\\\\n",
      "bike & 0.854 (0.005) & 1.011 (0.018) & 1.037 (0.018) & 0.997 (0.019) \\\\\n",
      "bio & 1.566 (0.005) & 1.600 (0.008) & 1.588 (0.006) & 1.590 (0.007) \\\\\n",
      "community & 1.492 (0.023) & 1.603 (0.025) & 1.625 (0.030) & 1.626 (0.027) \\\\\n",
      "concrete & 1.465 (0.009) & 1.497 (0.011) & 1.496 (0.010) & 1.496 (0.010) \\\\\n",
      "homes & 0.552 (0.003) & 0.602 (0.006) & 0.602 (0.003) & 0.603 (0.007) \\\\\n",
      "star & 0.179 (0.001) & 0.187 (0.001) & 0.187 (0.001) & 0.189 (0.001) \\\\\n",
      "\\end{tabular}\n",
      "\n"
     ]
    }
   ],
   "source": [
    "# Export to LaTeX\n",
    "latex_table = output.sort_index().style.to_latex()\n",
    "\n",
    "\n",
    "print('\\_'.join(latex_table.split('_')))"
   ]
  },
  {
   "cell_type": "code",
   "execution_count": null,
   "id": "3ab9094f",
   "metadata": {},
   "outputs": [],
   "source": []
  },
  {
   "cell_type": "code",
   "execution_count": null,
   "id": "839a2db9",
   "metadata": {},
   "outputs": [],
   "source": []
  },
  {
   "cell_type": "code",
   "execution_count": null,
   "id": "61496b9b",
   "metadata": {},
   "outputs": [],
   "source": []
  }
 ],
 "metadata": {
  "kernelspec": {
   "display_name": "Python 3",
   "language": "python",
   "name": "python3"
  },
  "language_info": {
   "codemirror_mode": {
    "name": "ipython",
    "version": 3
   },
   "file_extension": ".py",
   "mimetype": "text/x-python",
   "name": "python",
   "nbconvert_exporter": "python",
   "pygments_lexer": "ipython3",
   "version": "3.8.5"
  }
 },
 "nbformat": 4,
 "nbformat_minor": 5
}
