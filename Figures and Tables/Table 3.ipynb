{
 "cells": [
  {
   "cell_type": "code",
   "execution_count": 27,
   "id": "f33b6862",
   "metadata": {
    "scrolled": false
   },
   "outputs": [
    {
     "name": "stdout",
     "output_type": "stream",
     "text": [
      "The autoreload extension is already loaded. To reload it, use:\n",
      "  %reload_ext autoreload\n"
     ]
    }
   ],
   "source": [
    "%load_ext autoreload\n",
    "\n",
    "%autoreload 2"
   ]
  },
  {
   "cell_type": "code",
   "execution_count": 28,
   "id": "9fea408d",
   "metadata": {},
   "outputs": [],
   "source": [
    "from experiment import experiment"
   ]
  },
  {
   "cell_type": "code",
   "execution_count": 29,
   "id": "8119c3a6",
   "metadata": {},
   "outputs": [],
   "source": [
    "import os"
   ]
  },
  {
   "cell_type": "code",
   "execution_count": 30,
   "id": "017a204e",
   "metadata": {},
   "outputs": [],
   "source": [
    "import pandas as pd"
   ]
  },
  {
   "cell_type": "code",
   "execution_count": 31,
   "id": "d57a8f23",
   "metadata": {},
   "outputs": [],
   "source": [
    "results = os.listdir('results')"
   ]
  },
  {
   "cell_type": "code",
   "execution_count": 32,
   "id": "4d198d3e",
   "metadata": {},
   "outputs": [],
   "source": [
    "results = [result for result in results if result.endswith('.pkl') and \"6.05.2023\" in result and \"rfqr_20runs\" in result and \"std\" in result and \"B=100\" in result and \"logFalse\" in result and \"randomConformalFalse\" in result]\n"
   ]
  },
  {
   "cell_type": "code",
   "execution_count": 33,
   "id": "e023877d",
   "metadata": {},
   "outputs": [
    {
     "data": {
      "text/plain": [
       "['bike_rfqr_20runs_1fraction_logFalse_randomConformalFalse_cqrbaggstd_twosidedconformalFalse_B=100_06.05.2023.pkl',\n",
       " 'community_rfqr_20runs_1fraction_logFalse_randomConformalFalse_cqrbaggstd_twosidedconformalFalse_B=100_06.05.2023.pkl',\n",
       " 'bio_rfqr_20runs_0.25fraction_logFalse_randomConformalFalse_cqrbaggstd_twosidedconformalFalse_B=100_06.05.2023.pkl',\n",
       " 'concrete_rfqr_20runs_1fraction_logFalse_randomConformalFalse_cqrbaggstd_twosidedconformalFalse_B=100_06.05.2023.pkl',\n",
       " 'homes_rfqr_20runs_0.5fraction_logFalse_randomConformalFalse_cqrbaggstd_twosidedconformalFalse_B=100_06.05.2023.pkl',\n",
       " 'star_rfqr_20runs_1fraction_logFalse_randomConformalFalse_cqrbaggstd_twosidedconformalFalse_B=100_06.05.2023.pkl']"
      ]
     },
     "execution_count": 33,
     "metadata": {},
     "output_type": "execute_result"
    }
   ],
   "source": [
    "results"
   ]
  },
  {
   "cell_type": "code",
   "execution_count": 34,
   "id": "b69480f9",
   "metadata": {},
   "outputs": [],
   "source": [
    "output = pd.DataFrame(columns=['UACQR-P','UACQR-S', 'CQR','CQR-r', 'UACQR-P SE', 'UACQR-S SE', 'CQR SE','CQR-r SE'])\n",
    "for i,result in enumerate(results):\n",
    "    title = results[i].split('_')[0] if results[i].split('_')[0] not in [\"facebook\",\"meps\"] else '_'.join(results[i].split('_')[0:2])\n",
    "    result = experiment(file_name='results/'+results[i])\n",
    "    result.plot(calc_only=True)\n",
    "    output.loc[title,['UACQR-P','UACQR-S', 'CQR','CQR-r']] = result.mean_results.min()\n",
    "    output.loc[title,['UACQR-P SE','UACQR-S SE', 'CQR SE','CQR-r SE']] = result.sem_results.stack().loc[pd.MultiIndex.from_frame(result.mean_results.idxmin().rename('min_samples_leaf').reset_index().iloc[:,::-1])].to_numpy()\n",
    "    \n",
    "    "
   ]
  },
  {
   "cell_type": "code",
   "execution_count": 36,
   "id": "89cae5eb",
   "metadata": {},
   "outputs": [],
   "source": [
    "from functools import partial"
   ]
  },
  {
   "cell_type": "code",
   "execution_count": 37,
   "id": "7d78b4de",
   "metadata": {},
   "outputs": [],
   "source": [
    "def format_fig_and_se(row, method='CQR'):\n",
    "    fig = row[method]\n",
    "    se = row[method+' SE']\n",
    "    if fig >1000:\n",
    "        return f\"{fig:.0f} ({se:.0f})\"\n",
    "    elif fig >1:\n",
    "        return f\"{fig:.3f} ({se:.3f})\"\n",
    "    else:\n",
    "        return f\"{fig:.3f} ({se:.3f})\""
   ]
  },
  {
   "cell_type": "code",
   "execution_count": 38,
   "id": "8eb61bce",
   "metadata": {},
   "outputs": [],
   "source": [
    "drop_columns = [c for c in output.columns if 'SE' in c]"
   ]
  },
  {
   "cell_type": "code",
   "execution_count": 39,
   "id": "5bdfb808",
   "metadata": {},
   "outputs": [],
   "source": [
    "output['CQR'] = output.apply(partial(format_fig_and_se, method='CQR'), axis=1)\n",
    "output['UACQR-S'] = output.apply(partial(format_fig_and_se, method='UACQR-S'), axis=1)\n",
    "output['UACQR-P'] = output.apply(partial(format_fig_and_se, method='UACQR-P'), axis=1)\n",
    "output['CQR-r'] = output.apply(partial(format_fig_and_se, method='CQR-r'), axis=1)"
   ]
  },
  {
   "cell_type": "code",
   "execution_count": 40,
   "id": "de2f02ca",
   "metadata": {},
   "outputs": [],
   "source": [
    "output.drop(columns=drop_columns, inplace=True)"
   ]
  },
  {
   "cell_type": "code",
   "execution_count": 41,
   "id": "0dbb1469",
   "metadata": {
    "scrolled": true
   },
   "outputs": [
    {
     "name": "stdout",
     "output_type": "stream",
     "text": [
      "\\begin{tabular}{lllll}\n",
      " & UACQR-P & UACQR-S & CQR & CQR-r \\\\\n",
      "bike & 1.155 (0.009) & 1.452 (0.008) & 1.481 (0.008) & 1.436 (0.008) \\\\\n",
      "bio & 1.548 (0.009) & 1.650 (0.006) & 1.652 (0.006) & 1.649 (0.006) \\\\\n",
      "community & 1.527 (0.022) & 1.752 (0.017) & 1.762 (0.015) & 1.759 (0.016) \\\\\n",
      "concrete & 0.691 (0.010) & 0.734 (0.008) & 0.750 (0.007) & 0.727 (0.008) \\\\\n",
      "homes & 0.634 (0.004) & 0.693 (0.005) & 0.754 (0.005) & 0.708 (0.005) \\\\\n",
      "star & 0.177 (0.001) & 0.176 (0.001) & 0.175 (0.001) & 0.176 (0.001) \\\\\n",
      "\\end{tabular}\n",
      "\n"
     ]
    }
   ],
   "source": [
    "# Export to LaTeX\n",
    "latex_table = output.sort_index().style.to_latex()\n",
    "\n",
    "\n",
    "print('\\_'.join(latex_table.split('_')))"
   ]
  }
 ],
 "metadata": {
  "kernelspec": {
   "display_name": "Python 3",
   "language": "python",
   "name": "python3"
  },
  "language_info": {
   "codemirror_mode": {
    "name": "ipython",
    "version": 3
   },
   "file_extension": ".py",
   "mimetype": "text/x-python",
   "name": "python",
   "nbconvert_exporter": "python",
   "pygments_lexer": "ipython3",
   "version": "3.8.5"
  }
 },
 "nbformat": 4,
 "nbformat_minor": 5
}
