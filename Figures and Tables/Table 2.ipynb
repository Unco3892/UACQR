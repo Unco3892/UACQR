{
 "cells": [
  {
   "cell_type": "code",
   "execution_count": 16,
   "id": "f33b6862",
   "metadata": {
    "scrolled": false
   },
   "outputs": [
    {
     "name": "stdout",
     "output_type": "stream",
     "text": [
      "The autoreload extension is already loaded. To reload it, use:\n",
      "  %reload_ext autoreload\n"
     ]
    }
   ],
   "source": [
    "%load_ext autoreload\n",
    "\n",
    "%autoreload 2"
   ]
  },
  {
   "cell_type": "code",
   "execution_count": 17,
   "id": "9fea408d",
   "metadata": {},
   "outputs": [],
   "source": [
    "from experiment import experiment"
   ]
  },
  {
   "cell_type": "code",
   "execution_count": 18,
   "id": "8119c3a6",
   "metadata": {},
   "outputs": [],
   "source": [
    "import os"
   ]
  },
  {
   "cell_type": "code",
   "execution_count": 19,
   "id": "017a204e",
   "metadata": {},
   "outputs": [],
   "source": [
    "import pandas as pd"
   ]
  },
  {
   "cell_type": "code",
   "execution_count": 20,
   "id": "d57a8f23",
   "metadata": {},
   "outputs": [],
   "source": [
    "results = os.listdir('results')"
   ]
  },
  {
   "cell_type": "code",
   "execution_count": 21,
   "id": "4d198d3e",
   "metadata": {},
   "outputs": [],
   "source": [
    "results = [result for result in results if result.endswith('.pkl') and \"6.05.2023\" in result and \"rfqr_20runs\" in result and \"std\" in result and \"B=100\" in result and \"logTrue\" in result]"
   ]
  },
  {
   "cell_type": "code",
   "execution_count": 22,
   "id": "e023877d",
   "metadata": {},
   "outputs": [
    {
     "data": {
      "text/plain": [
       "['bio_rfqr_20runs_0.25fraction_logTrue_randomConformalTrue_cqrbaggstd_twosidedconformalFalse_B=100_06.05.2023.pkl',\n",
       " 'star_rfqr_20runs_1fraction_logTrue_randomConformalTrue_cqrbaggstd_twosidedconformalFalse_B=100_06.05.2023.pkl',\n",
       " 'community_rfqr_20runs_1fraction_logTrue_randomConformalTrue_cqrbaggstd_twosidedconformalFalse_B=100_06.05.2023.pkl',\n",
       " 'concrete_rfqr_20runs_1fraction_logTrue_randomConformalTrue_cqrbaggstd_twosidedconformalFalse_B=100_06.05.2023.pkl',\n",
       " 'bike_rfqr_20runs_1fraction_logTrue_randomConformalTrue_cqrbaggstd_twosidedconformalFalse_B=100_06.05.2023.pkl',\n",
       " 'homes_rfqr_20runs_0.5fraction_logTrue_randomConformalTrue_cqrbaggstd_twosidedconformalFalse_B=100_06.05.2023.pkl']"
      ]
     },
     "execution_count": 22,
     "metadata": {},
     "output_type": "execute_result"
    }
   ],
   "source": [
    "results"
   ]
  },
  {
   "cell_type": "code",
   "execution_count": 23,
   "id": "b69480f9",
   "metadata": {},
   "outputs": [],
   "source": [
    "output = pd.DataFrame(columns=['UACQR-P','UACQR-S', 'CQR','CQR-r', 'UACQR-P SE', 'UACQR-S SE', 'CQR SE','CQR-r SE'])\n",
    "for i,result in enumerate(results):\n",
    "    title = results[i].split('_')[0] if results[i].split('_')[0] not in [\"facebook\",\"meps\"] else '_'.join(results[i].split('_')[0:2])\n",
    "    result = experiment(file_name='results/'+results[i])\n",
    "    result.plot(calc_only=True)\n",
    "    output.loc[title,['UACQR-P','UACQR-S', 'CQR','CQR-r']] = result.mean_results.min()\n",
    "    output.loc[title,['UACQR-P SE','UACQR-S SE', 'CQR SE','CQR-r SE']] = result.sem_results.stack().loc[pd.MultiIndex.from_frame(result.mean_results.idxmin().rename('min_samples_leaf').reset_index().iloc[:,::-1])].to_numpy()\n",
    "    \n",
    "    "
   ]
  },
  {
   "cell_type": "code",
   "execution_count": 24,
   "id": "1d9caeae",
   "metadata": {},
   "outputs": [
    {
     "data": {
      "text/html": [
       "<div>\n",
       "<style scoped>\n",
       "    .dataframe tbody tr th:only-of-type {\n",
       "        vertical-align: middle;\n",
       "    }\n",
       "\n",
       "    .dataframe tbody tr th {\n",
       "        vertical-align: top;\n",
       "    }\n",
       "\n",
       "    .dataframe thead th {\n",
       "        text-align: right;\n",
       "    }\n",
       "</style>\n",
       "<table border=\"1\" class=\"dataframe\">\n",
       "  <thead>\n",
       "    <tr style=\"text-align: right;\">\n",
       "      <th></th>\n",
       "      <th>UACQR-P</th>\n",
       "      <th>UACQR-S</th>\n",
       "      <th>CQR</th>\n",
       "      <th>CQR-r</th>\n",
       "      <th>UACQR-P SE</th>\n",
       "      <th>UACQR-S SE</th>\n",
       "      <th>CQR SE</th>\n",
       "      <th>CQR-r SE</th>\n",
       "    </tr>\n",
       "  </thead>\n",
       "  <tbody>\n",
       "    <tr>\n",
       "      <th>bio</th>\n",
       "      <td>1.513867</td>\n",
       "      <td>1.630464</td>\n",
       "      <td>1.631176</td>\n",
       "      <td>1.629646</td>\n",
       "      <td>0.006304</td>\n",
       "      <td>0.003856</td>\n",
       "      <td>0.00387</td>\n",
       "      <td>0.003794</td>\n",
       "    </tr>\n",
       "    <tr>\n",
       "      <th>star</th>\n",
       "      <td>0.174554</td>\n",
       "      <td>0.174126</td>\n",
       "      <td>0.17392</td>\n",
       "      <td>0.174045</td>\n",
       "      <td>0.000938</td>\n",
       "      <td>0.000747</td>\n",
       "      <td>0.000721</td>\n",
       "      <td>0.000766</td>\n",
       "    </tr>\n",
       "    <tr>\n",
       "      <th>community</th>\n",
       "      <td>0.268256</td>\n",
       "      <td>0.314898</td>\n",
       "      <td>0.31572</td>\n",
       "      <td>0.315571</td>\n",
       "      <td>0.003129</td>\n",
       "      <td>0.002718</td>\n",
       "      <td>0.002461</td>\n",
       "      <td>0.002477</td>\n",
       "    </tr>\n",
       "    <tr>\n",
       "      <th>concrete</th>\n",
       "      <td>0.729421</td>\n",
       "      <td>0.80676</td>\n",
       "      <td>0.841803</td>\n",
       "      <td>0.795446</td>\n",
       "      <td>0.010338</td>\n",
       "      <td>0.007609</td>\n",
       "      <td>0.007359</td>\n",
       "      <td>0.007996</td>\n",
       "    </tr>\n",
       "    <tr>\n",
       "      <th>bike</th>\n",
       "      <td>1.613055</td>\n",
       "      <td>1.901252</td>\n",
       "      <td>1.945633</td>\n",
       "      <td>1.885768</td>\n",
       "      <td>0.006845</td>\n",
       "      <td>0.007044</td>\n",
       "      <td>0.007634</td>\n",
       "      <td>0.007185</td>\n",
       "    </tr>\n",
       "    <tr>\n",
       "      <th>homes</th>\n",
       "      <td>0.59591</td>\n",
       "      <td>0.635026</td>\n",
       "      <td>0.650137</td>\n",
       "      <td>0.634358</td>\n",
       "      <td>0.002667</td>\n",
       "      <td>0.0036</td>\n",
       "      <td>0.003086</td>\n",
       "      <td>0.003437</td>\n",
       "    </tr>\n",
       "  </tbody>\n",
       "</table>\n",
       "</div>"
      ],
      "text/plain": [
       "            UACQR-P   UACQR-S       CQR     CQR-r UACQR-P SE UACQR-S SE  \\\n",
       "bio        1.513867  1.630464  1.631176  1.629646   0.006304   0.003856   \n",
       "star       0.174554  0.174126   0.17392  0.174045   0.000938   0.000747   \n",
       "community  0.268256  0.314898   0.31572  0.315571   0.003129   0.002718   \n",
       "concrete   0.729421   0.80676  0.841803  0.795446   0.010338   0.007609   \n",
       "bike       1.613055  1.901252  1.945633  1.885768   0.006845   0.007044   \n",
       "homes       0.59591  0.635026  0.650137  0.634358   0.002667     0.0036   \n",
       "\n",
       "             CQR SE  CQR-r SE  \n",
       "bio         0.00387  0.003794  \n",
       "star       0.000721  0.000766  \n",
       "community  0.002461  0.002477  \n",
       "concrete   0.007359  0.007996  \n",
       "bike       0.007634  0.007185  \n",
       "homes      0.003086  0.003437  "
      ]
     },
     "execution_count": 24,
     "metadata": {},
     "output_type": "execute_result"
    }
   ],
   "source": [
    "output"
   ]
  },
  {
   "cell_type": "code",
   "execution_count": 25,
   "id": "89cae5eb",
   "metadata": {},
   "outputs": [],
   "source": [
    "from functools import partial"
   ]
  },
  {
   "cell_type": "code",
   "execution_count": 26,
   "id": "7d78b4de",
   "metadata": {},
   "outputs": [],
   "source": [
    "def format_fig_and_se(row, method='CQR'):\n",
    "    fig = row[method]\n",
    "    se = row[method+' SE']\n",
    "    if fig >1000:\n",
    "        return f\"{fig:.0f} ({se:.0f})\"\n",
    "    elif fig >1:\n",
    "        return f\"{fig:.3f} ({se:.3f})\"\n",
    "    else:\n",
    "        return f\"{fig:.3f} ({se:.3f})\""
   ]
  },
  {
   "cell_type": "code",
   "execution_count": 27,
   "id": "8eb61bce",
   "metadata": {},
   "outputs": [],
   "source": [
    "drop_columns = [c for c in output.columns if 'SE' in c]"
   ]
  },
  {
   "cell_type": "code",
   "execution_count": 28,
   "id": "5bdfb808",
   "metadata": {},
   "outputs": [],
   "source": [
    "output['CQR'] = output.apply(partial(format_fig_and_se, method='CQR'), axis=1)\n",
    "output['UACQR-S'] = output.apply(partial(format_fig_and_se, method='UACQR-S'), axis=1)\n",
    "output['UACQR-P'] = output.apply(partial(format_fig_and_se, method='UACQR-P'), axis=1)\n",
    "output['CQR-r'] = output.apply(partial(format_fig_and_se, method='CQR-r'), axis=1)"
   ]
  },
  {
   "cell_type": "code",
   "execution_count": 29,
   "id": "de2f02ca",
   "metadata": {},
   "outputs": [],
   "source": [
    "output.drop(columns=drop_columns, inplace=True)"
   ]
  },
  {
   "cell_type": "code",
   "execution_count": 30,
   "id": "0dbb1469",
   "metadata": {
    "scrolled": true
   },
   "outputs": [
    {
     "name": "stdout",
     "output_type": "stream",
     "text": [
      "\\begin{tabular}{lllll}\n",
      " & UACQR-P & UACQR-S & CQR & CQR-r \\\\\n",
      "bike & 1.613 (0.007) & 1.901 (0.007) & 1.946 (0.008) & 1.886 (0.007) \\\\\n",
      "bio & 1.514 (0.006) & 1.630 (0.004) & 1.631 (0.004) & 1.630 (0.004) \\\\\n",
      "community & 0.268 (0.003) & 0.315 (0.003) & 0.316 (0.002) & 0.316 (0.002) \\\\\n",
      "concrete & 0.729 (0.010) & 0.807 (0.008) & 0.842 (0.007) & 0.795 (0.008) \\\\\n",
      "homes & 0.596 (0.003) & 0.635 (0.004) & 0.650 (0.003) & 0.634 (0.003) \\\\\n",
      "star & 0.175 (0.001) & 0.174 (0.001) & 0.174 (0.001) & 0.174 (0.001) \\\\\n",
      "\\end{tabular}\n",
      "\n"
     ]
    }
   ],
   "source": [
    "# Export to LaTeX\n",
    "latex_table = output.sort_index().style.to_latex()\n",
    "\n",
    "\n",
    "print('\\_'.join(latex_table.split('_')))"
   ]
  },
  {
   "cell_type": "code",
   "execution_count": null,
   "id": "61cecf98",
   "metadata": {},
   "outputs": [],
   "source": []
  }
 ],
 "metadata": {
  "kernelspec": {
   "display_name": "Python 3",
   "language": "python",
   "name": "python3"
  },
  "language_info": {
   "codemirror_mode": {
    "name": "ipython",
    "version": 3
   },
   "file_extension": ".py",
   "mimetype": "text/x-python",
   "name": "python",
   "nbconvert_exporter": "python",
   "pygments_lexer": "ipython3",
   "version": "3.8.5"
  }
 },
 "nbformat": 4,
 "nbformat_minor": 5
}
