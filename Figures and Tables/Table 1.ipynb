{
 "cells": [
  {
   "cell_type": "code",
   "execution_count": 1,
   "id": "f33b6862",
   "metadata": {
    "scrolled": false
   },
   "outputs": [],
   "source": [
    "%load_ext autoreload\n",
    "\n",
    "%autoreload 2"
   ]
  },
  {
   "cell_type": "code",
   "execution_count": 2,
   "id": "9fea408d",
   "metadata": {},
   "outputs": [],
   "source": [
    "from experiment import experiment"
   ]
  },
  {
   "cell_type": "code",
   "execution_count": 3,
   "id": "8119c3a6",
   "metadata": {},
   "outputs": [],
   "source": [
    "import os"
   ]
  },
  {
   "cell_type": "code",
   "execution_count": 4,
   "id": "017a204e",
   "metadata": {},
   "outputs": [],
   "source": [
    "import pandas as pd"
   ]
  },
  {
   "cell_type": "code",
   "execution_count": 5,
   "id": "d57a8f23",
   "metadata": {},
   "outputs": [],
   "source": [
    "results = os.listdir('results')"
   ]
  },
  {
   "cell_type": "code",
   "execution_count": 6,
   "id": "4d198d3e",
   "metadata": {},
   "outputs": [],
   "source": [
    "results = [result for result in results if result.endswith('.pkl') and \"5.31.2023\" in result and \"rfqr_20runs\" in result and \"std\" in result and \"B=100\" in result and \"randomConformalTrue\" in result and \"logFalse\" in result]"
   ]
  },
  {
   "cell_type": "code",
   "execution_count": 7,
   "id": "e023877d",
   "metadata": {},
   "outputs": [
    {
     "data": {
      "text/plain": [
       "['bio_rfqr_20runs_0.25fraction_logFalse_randomConformalTrue_cqrbaggstd_twosidedconformalFalse_B=100_05.31.2023.pkl',\n",
       " 'homes_rfqr_20runs_0.5fraction_logFalse_randomConformalTrue_cqrbaggstd_twosidedconformalFalse_B=100_05.31.2023.pkl',\n",
       " 'concrete_rfqr_20runs_1fraction_logFalse_randomConformalTrue_cqrbaggstd_twosidedconformalFalse_B=100_05.31.2023.pkl',\n",
       " 'bike_rfqr_20runs_1fraction_logFalse_randomConformalTrue_cqrbaggstd_twosidedconformalFalse_B=100_05.31.2023.pkl',\n",
       " 'community_rfqr_20runs_1fraction_logFalse_randomConformalTrue_cqrbaggstd_twosidedconformalFalse_B=100_05.31.2023.pkl',\n",
       " 'star_rfqr_20runs_1fraction_logFalse_randomConformalTrue_cqrbaggstd_twosidedconformalFalse_B=100_05.31.2023.pkl']"
      ]
     },
     "execution_count": 7,
     "metadata": {},
     "output_type": "execute_result"
    }
   ],
   "source": [
    "results"
   ]
  },
  {
   "cell_type": "code",
   "execution_count": 8,
   "id": "b69480f9",
   "metadata": {},
   "outputs": [],
   "source": [
    "output = pd.DataFrame(columns=['UACQR-P','UACQR-S', 'CQR','CQR-r', 'UACQR-P SE', 'UACQR-S SE', 'CQR SE','CQR-r SE'])\n",
    "for i,result in enumerate(results):\n",
    "    title = results[i].split('_')[0] if results[i].split('_')[0] not in [\"facebook\",\"meps\"] else '_'.join(results[i].split('_')[0:2])\n",
    "    result = experiment(file_name='results/'+results[i])\n",
    "    result.plot(calc_only=True)\n",
    "    output.loc[title,['UACQR-P','UACQR-S', 'CQR','CQR-r']] = result.mean_results.min()\n",
    "    output.loc[title,['UACQR-P SE','UACQR-S SE', 'CQR SE','CQR-r SE']] = result.sem_results.stack().loc[pd.MultiIndex.from_frame(result.mean_results.idxmin().rename('min_samples_leaf').reset_index().iloc[:,::-1])].to_numpy()\n",
    "    \n",
    "    "
   ]
  },
  {
   "cell_type": "code",
   "execution_count": 9,
   "id": "aca166f2",
   "metadata": {},
   "outputs": [
    {
     "data": {
      "text/html": [
       "<div>\n",
       "<style scoped>\n",
       "    .dataframe tbody tr th:only-of-type {\n",
       "        vertical-align: middle;\n",
       "    }\n",
       "\n",
       "    .dataframe tbody tr th {\n",
       "        vertical-align: top;\n",
       "    }\n",
       "\n",
       "    .dataframe thead th {\n",
       "        text-align: right;\n",
       "    }\n",
       "</style>\n",
       "<table border=\"1\" class=\"dataframe\">\n",
       "  <thead>\n",
       "    <tr style=\"text-align: right;\">\n",
       "      <th></th>\n",
       "      <th>UACQR-P</th>\n",
       "      <th>UACQR-S</th>\n",
       "      <th>CQR</th>\n",
       "      <th>CQR-r</th>\n",
       "      <th>UACQR-P SE</th>\n",
       "      <th>UACQR-S SE</th>\n",
       "      <th>CQR SE</th>\n",
       "      <th>CQR-r SE</th>\n",
       "    </tr>\n",
       "  </thead>\n",
       "  <tbody>\n",
       "    <tr>\n",
       "      <th>bike</th>\n",
       "      <td>1.143357</td>\n",
       "      <td>1.451945</td>\n",
       "      <td>1.480517</td>\n",
       "      <td>1.435097</td>\n",
       "      <td>0.008622</td>\n",
       "      <td>0.007771</td>\n",
       "      <td>0.007501</td>\n",
       "      <td>0.008011</td>\n",
       "    </tr>\n",
       "    <tr>\n",
       "      <th>bio</th>\n",
       "      <td>1.534535</td>\n",
       "      <td>1.649856</td>\n",
       "      <td>1.65199</td>\n",
       "      <td>1.648958</td>\n",
       "      <td>0.008387</td>\n",
       "      <td>0.005643</td>\n",
       "      <td>0.005583</td>\n",
       "      <td>0.005667</td>\n",
       "    </tr>\n",
       "    <tr>\n",
       "      <th>community</th>\n",
       "      <td>1.493758</td>\n",
       "      <td>1.750159</td>\n",
       "      <td>1.760516</td>\n",
       "      <td>1.756741</td>\n",
       "      <td>0.021019</td>\n",
       "      <td>0.017161</td>\n",
       "      <td>0.015618</td>\n",
       "      <td>0.016135</td>\n",
       "    </tr>\n",
       "    <tr>\n",
       "      <th>concrete</th>\n",
       "      <td>0.667608</td>\n",
       "      <td>0.728981</td>\n",
       "      <td>0.745444</td>\n",
       "      <td>0.720602</td>\n",
       "      <td>0.008121</td>\n",
       "      <td>0.007627</td>\n",
       "      <td>0.006917</td>\n",
       "      <td>0.008211</td>\n",
       "    </tr>\n",
       "    <tr>\n",
       "      <th>homes</th>\n",
       "      <td>0.625816</td>\n",
       "      <td>0.692549</td>\n",
       "      <td>0.753587</td>\n",
       "      <td>0.707159</td>\n",
       "      <td>0.004544</td>\n",
       "      <td>0.00495</td>\n",
       "      <td>0.004686</td>\n",
       "      <td>0.00508</td>\n",
       "    </tr>\n",
       "    <tr>\n",
       "      <th>star</th>\n",
       "      <td>0.174783</td>\n",
       "      <td>0.174528</td>\n",
       "      <td>0.174299</td>\n",
       "      <td>0.174519</td>\n",
       "      <td>0.000826</td>\n",
       "      <td>0.000776</td>\n",
       "      <td>0.000726</td>\n",
       "      <td>0.000792</td>\n",
       "    </tr>\n",
       "  </tbody>\n",
       "</table>\n",
       "</div>"
      ],
      "text/plain": [
       "            UACQR-P   UACQR-S       CQR     CQR-r UACQR-P SE UACQR-S SE  \\\n",
       "bike       1.143357  1.451945  1.480517  1.435097   0.008622   0.007771   \n",
       "bio        1.534535  1.649856   1.65199  1.648958   0.008387   0.005643   \n",
       "community  1.493758  1.750159  1.760516  1.756741   0.021019   0.017161   \n",
       "concrete   0.667608  0.728981  0.745444  0.720602   0.008121   0.007627   \n",
       "homes      0.625816  0.692549  0.753587  0.707159   0.004544    0.00495   \n",
       "star       0.174783  0.174528  0.174299  0.174519   0.000826   0.000776   \n",
       "\n",
       "             CQR SE  CQR-r SE  \n",
       "bike       0.007501  0.008011  \n",
       "bio        0.005583  0.005667  \n",
       "community  0.015618  0.016135  \n",
       "concrete   0.006917  0.008211  \n",
       "homes      0.004686   0.00508  \n",
       "star       0.000726  0.000792  "
      ]
     },
     "execution_count": 9,
     "metadata": {},
     "output_type": "execute_result"
    }
   ],
   "source": [
    "output.sort_index()"
   ]
  },
  {
   "cell_type": "code",
   "execution_count": 10,
   "id": "89cae5eb",
   "metadata": {},
   "outputs": [],
   "source": [
    "from functools import partial"
   ]
  },
  {
   "cell_type": "code",
   "execution_count": 11,
   "id": "7d78b4de",
   "metadata": {},
   "outputs": [],
   "source": [
    "def format_fig_and_se(row, method='CQR'):\n",
    "    fig = row[method]\n",
    "    se = row[method+' SE']\n",
    "    if fig >1000:\n",
    "        return f\"{fig:.0f} ({se:.0f})\"\n",
    "    elif fig >1:\n",
    "        return f\"{fig:.3f} ({se:.3f})\"\n",
    "    else:\n",
    "        return f\"{fig:.3f} ({se:.3f})\""
   ]
  },
  {
   "cell_type": "code",
   "execution_count": 12,
   "id": "8eb61bce",
   "metadata": {},
   "outputs": [],
   "source": [
    "drop_columns = [c for c in output.columns if 'SE' in c]"
   ]
  },
  {
   "cell_type": "code",
   "execution_count": 13,
   "id": "5bdfb808",
   "metadata": {},
   "outputs": [],
   "source": [
    "output['CQR'] = output.apply(partial(format_fig_and_se, method='CQR'), axis=1)\n",
    "output['UACQR-S'] = output.apply(partial(format_fig_and_se, method='UACQR-S'), axis=1)\n",
    "output['UACQR-P'] = output.apply(partial(format_fig_and_se, method='UACQR-P'), axis=1)\n",
    "output['CQR-r'] = output.apply(partial(format_fig_and_se, method='CQR-r'), axis=1)"
   ]
  },
  {
   "cell_type": "code",
   "execution_count": 14,
   "id": "de2f02ca",
   "metadata": {},
   "outputs": [],
   "source": [
    "output.drop(columns=drop_columns, inplace=True)"
   ]
  },
  {
   "cell_type": "code",
   "execution_count": 15,
   "id": "0dbb1469",
   "metadata": {
    "scrolled": true
   },
   "outputs": [
    {
     "name": "stdout",
     "output_type": "stream",
     "text": [
      "\\begin{tabular}{lllll}\n",
      " & UACQR-P & UACQR-S & CQR & CQR-r \\\\\n",
      "bike & 1.143 (0.009) & 1.452 (0.008) & 1.481 (0.008) & 1.435 (0.008) \\\\\n",
      "bio & 1.535 (0.008) & 1.650 (0.006) & 1.652 (0.006) & 1.649 (0.006) \\\\\n",
      "community & 1.494 (0.021) & 1.750 (0.017) & 1.761 (0.016) & 1.757 (0.016) \\\\\n",
      "concrete & 0.668 (0.008) & 0.729 (0.008) & 0.745 (0.007) & 0.721 (0.008) \\\\\n",
      "homes & 0.626 (0.005) & 0.693 (0.005) & 0.754 (0.005) & 0.707 (0.005) \\\\\n",
      "star & 0.175 (0.001) & 0.175 (0.001) & 0.174 (0.001) & 0.175 (0.001) \\\\\n",
      "\\end{tabular}\n",
      "\n"
     ]
    }
   ],
   "source": [
    "# Export to LaTeX\n",
    "latex_table = output.sort_index().style.to_latex()\n",
    "\n",
    "\n",
    "print('\\_'.join(latex_table.split('_')))"
   ]
  }
 ],
 "metadata": {
  "kernelspec": {
   "display_name": "Python 3",
   "language": "python",
   "name": "python3"
  },
  "language_info": {
   "codemirror_mode": {
    "name": "ipython",
    "version": 3
   },
   "file_extension": ".py",
   "mimetype": "text/x-python",
   "name": "python",
   "nbconvert_exporter": "python",
   "pygments_lexer": "ipython3",
   "version": "3.8.5"
  }
 },
 "nbformat": 4,
 "nbformat_minor": 5
}
